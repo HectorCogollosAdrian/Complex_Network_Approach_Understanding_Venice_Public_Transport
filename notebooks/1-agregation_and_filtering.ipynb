{
 "cells": [
  {
   "cell_type": "markdown",
   "id": "c5db5d9b",
   "metadata": {},
   "source": [
    "# Groups of stops\n",
    "\n",
    "The original dataset differentiates between the platforms at each stop and stops that proceed in one direction or the other. In this particular instance, this information is of no value and hinders analysis. Consequently, with the assistance of a file provided by the data supplier, the stops will be streamlined to enhance their comprehensibility and facilitate processing.\n",
    "\n",
    "Furthermore, an additional file is utilized that contains the various ticket types present within the data set, along with the respective user types to which they pertain."
   ]
  },
  {
   "cell_type": "code",
   "execution_count": 6,
   "id": "db43a58f",
   "metadata": {
    "ExecuteTime": {
     "end_time": "2025-10-05T17:58:08.258441Z",
     "start_time": "2025-10-05T17:44:51.165932Z"
    }
   },
   "outputs": [],
   "source": [
    "import pandas as pd\n",
    "import json\n",
    "\n",
    "#Full dataset\n",
    "df=pd.read_csv('../data/full_data_set.csv')\n",
    "#CSV file with the different types of tickets and the type of user to whom they belong\n",
    "df_titolo=pd.read_csv('../data/kind_of_tickets_segmentation_or.csv')\n",
    "df=df[df.titolo.isin(df_titolo.titolo.to_list())]\n",
    "\n",
    "rutas=dict()\n",
    "seriales=set(df.seriale.to_list())\n",
    "for i in seriales:\n",
    "    aux=df[df['seriale']==i][['lon','lat']].to_numpy()\n",
    "    if not(len(aux) in rutas):\n",
    "        rutas[len(aux)]=dict()\n",
    "    rutas[len(aux)][i]=aux\n",
    "    \n",
    "with open('../Data/stop_aggr.json', 'r') as f:\n",
    "    new_stops = json.load(f)\n",
    "new_stops = {int(k):int(v) for k,v in new_stops.items()}    \n"
   ]
  },
  {
   "cell_type": "markdown",
   "id": "6af40ab6a6f90240",
   "metadata": {
    "collapsed": false
   },
   "source": [
    "Subsequently, the locations of all stops are loaded with their respective names and identifiers. It should be noted that five stops are not included in the aforementioned file and are, as such, loaded separately."
   ]
  },
  {
   "cell_type": "code",
   "execution_count": 7,
   "id": "a9f99bbc",
   "metadata": {
    "ExecuteTime": {
     "end_time": "2025-10-05T17:58:08.281385Z",
     "start_time": "2025-10-05T17:58:08.257936Z"
    }
   },
   "outputs": [],
   "source": [
    "\n",
    "name_new_stops={-2: [\"Piazzale Roma\", 45.438038, 12.318223],\n",
    "    -3: [\"Stazione Mestre\", 45.482675, 12.231809],\n",
    "    -4: [\"Aeroporto\", 45.504976, 12.339106],\n",
    "    -5: [\"Lido bus\", 45.390778, 12.353001],\n",
    "    -1: [\"TERRA\", 45.491853, 12.242548]}\n",
    "df_s=pd.read_csv('../data/stops.csv')\n",
    "st=set(new_stops.values())\n",
    "for i in st:\n",
    "    if not(i in name_new_stops):\n",
    "        aux=df_s[df_s.fermata==i]\n",
    "        if len(aux)>0:\n",
    "            name_new_stops[i]=[aux.descrizione.iloc[0],aux.lat.iloc[0],aux.lon.iloc[0]]\n"
   ]
  },
  {
   "cell_type": "markdown",
   "id": "9101c83d36551ab8",
   "metadata": {
    "collapsed": false
   },
   "source": [
    "Next, the names of the stops that refer to specific stops and docks are replaced with the new \"clustered\" stops."
   ]
  },
  {
   "cell_type": "code",
   "execution_count": 8,
   "id": "fd9021fa",
   "metadata": {
    "ExecuteTime": {
     "end_time": "2025-10-05T17:58:22.904193Z",
     "start_time": "2025-10-05T17:58:08.286175Z"
    }
   },
   "outputs": [],
   "source": [
    "\n",
    "for i in new_stops:\n",
    "    if len(df[df.fermata==i].fermata)>0 and df[df.fermata==i].fermata.iloc[0] in new_stops.keys():\n",
    "        ax=name_new_stops[new_stops[df[df.fermata==i].fermata.iloc[0]]]\n",
    "        df.loc[df.fermata==i,'DESCRIZIONE']=ax[0]\n",
    "        df.loc[df.fermata==i,'lat']=ax[1]\n",
    "        df.loc[df.fermata==i,'lon']=ax[2]\n",
    "        df.loc[df.fermata==i,'FERMATA']=new_stops[df[df.fermata==i].fermata.iloc[0]]\n",
    "        \n"
   ]
  },
  {
   "cell_type": "markdown",
   "id": "8aa9f2be95c6aa8b",
   "metadata": {
    "collapsed": false
   },
   "source": [
    "The data_validazione column is converted into a datetime column."
   ]
  },
  {
   "cell_type": "code",
   "execution_count": 9,
   "id": "2b03cafe",
   "metadata": {
    "ExecuteTime": {
     "end_time": "2025-10-05T17:58:23.077376Z",
     "start_time": "2025-10-05T17:58:22.948146Z"
    }
   },
   "outputs": [],
   "source": [
    "df['data_validazione']=pd.to_datetime(df['data_validazione'])"
   ]
  },
  {
   "cell_type": "markdown",
   "id": "dd91471d81dade",
   "metadata": {
    "collapsed": false
   },
   "source": [
    "## Save Data\n",
    "\n",
    "The data is currently stored in three CSV files: one containing all the filtered data, another containing only the carnival period, and a third file containing the remaining data."
   ]
  },
  {
   "cell_type": "code",
   "execution_count": 10,
   "id": "bfa10313",
   "metadata": {
    "ExecuteTime": {
     "end_time": "2025-10-05T17:58:42.612680Z",
     "start_time": "2025-10-05T17:58:23.080666Z"
    }
   },
   "outputs": [],
   "source": [
    "df[(df['data_validazione']>=pd.to_datetime('2023-02-04')) & (df['data_validazione']<=pd.to_datetime('2023-02-21'))].to_csv('data_filter_carnival.csv',index=False)\n",
    "df[(df['data_validazione']<pd.to_datetime('2023-02-04')) | (df['data_validazione']>pd.to_datetime('2023-02-21'))].to_csv('data_filter_no_carnival.csv',index=False)\n",
    "df.to_csv('data_filter_all.csv',index=False)\n"
   ]
  },
  {
   "cell_type": "code",
   "execution_count": 16,
   "id": "fc47562bd9f4e0a0",
   "metadata": {
    "ExecuteTime": {
     "end_time": "2025-10-06T10:45:07.305445Z",
     "start_time": "2025-10-06T10:45:07.292466Z"
    },
    "collapsed": false
   },
   "outputs": [
    {
     "data": {
      "text/html": [
       "<div>\n",
       "<style scoped>\n",
       "    .dataframe tbody tr th:only-of-type {\n",
       "        vertical-align: middle;\n",
       "    }\n",
       "\n",
       "    .dataframe tbody tr th {\n",
       "        vertical-align: top;\n",
       "    }\n",
       "\n",
       "    .dataframe thead th {\n",
       "        text-align: right;\n",
       "    }\n",
       "</style>\n",
       "<table border=\"1\" class=\"dataframe\">\n",
       "  <thead>\n",
       "    <tr style=\"text-align: right;\">\n",
       "      <th></th>\n",
       "      <th>id</th>\n",
       "      <th>data_validazione</th>\n",
       "      <th>seriale</th>\n",
       "      <th>fermata</th>\n",
       "      <th>descrizione</th>\n",
       "      <th>titolo</th>\n",
       "      <th>descrizione_titolo</th>\n",
       "      <th>lon</th>\n",
       "      <th>lat</th>\n",
       "      <th>DESCRIZIONE</th>\n",
       "      <th>FERMATA</th>\n",
       "    </tr>\n",
       "  </thead>\n",
       "  <tbody>\n",
       "    <tr>\n",
       "      <th>0</th>\n",
       "      <td>9938501</td>\n",
       "      <td>2023-01-13 07:33:00</td>\n",
       "      <td>-3619126015</td>\n",
       "      <td>5031</td>\n",
       "      <td>P.le Roma \"G</td>\n",
       "      <td>21402</td>\n",
       "      <td>Supp Mens.navigazione</td>\n",
       "      <td>12.319465</td>\n",
       "      <td>45.438667</td>\n",
       "      <td>P.le Roma (Hotel S. Chiar</td>\n",
       "      <td>5501.0</td>\n",
       "    </tr>\n",
       "    <tr>\n",
       "      <th>1</th>\n",
       "      <td>9938502</td>\n",
       "      <td>2023-01-13 07:33:00</td>\n",
       "      <td>-2854866114</td>\n",
       "      <td>511</td>\n",
       "      <td>VENEZIA</td>\n",
       "      <td>24101</td>\n",
       "      <td>Mensile Ordinario extra</td>\n",
       "      <td>12.318223</td>\n",
       "      <td>45.438038</td>\n",
       "      <td>Piazzale Roma</td>\n",
       "      <td>-2.0</td>\n",
       "    </tr>\n",
       "    <tr>\n",
       "      <th>2</th>\n",
       "      <td>9938503</td>\n",
       "      <td>2023-01-13 07:33:00</td>\n",
       "      <td>-2824220595</td>\n",
       "      <td>1017</td>\n",
       "      <td>Castellana S</td>\n",
       "      <td>11209</td>\n",
       "      <td>Bigl RETE UNICA 75'</td>\n",
       "      <td>12.242548</td>\n",
       "      <td>45.491853</td>\n",
       "      <td>TERRA</td>\n",
       "      <td>-1.0</td>\n",
       "    </tr>\n",
       "    <tr>\n",
       "      <th>3</th>\n",
       "      <td>9938733</td>\n",
       "      <td>2023-01-13 07:36:00</td>\n",
       "      <td>-2824216539</td>\n",
       "      <td>5094</td>\n",
       "      <td>Lido S.M.E.</td>\n",
       "      <td>11209</td>\n",
       "      <td>Bigl RETE UNICA 75'</td>\n",
       "      <td>12.368725</td>\n",
       "      <td>45.417992</td>\n",
       "      <td>Lido (S.M.E.) \"B\"</td>\n",
       "      <td>5001.0</td>\n",
       "    </tr>\n",
       "    <tr>\n",
       "      <th>4</th>\n",
       "      <td>9938886</td>\n",
       "      <td>2023-01-13 07:38:00</td>\n",
       "      <td>-2824204947</td>\n",
       "      <td>5031</td>\n",
       "      <td>P.le Roma \"G</td>\n",
       "      <td>21402</td>\n",
       "      <td>Supp Mens.navigazione</td>\n",
       "      <td>12.319465</td>\n",
       "      <td>45.438667</td>\n",
       "      <td>P.le Roma (Hotel S. Chiar</td>\n",
       "      <td>5501.0</td>\n",
       "    </tr>\n",
       "    <tr>\n",
       "      <th>...</th>\n",
       "      <td>...</td>\n",
       "      <td>...</td>\n",
       "      <td>...</td>\n",
       "      <td>...</td>\n",
       "      <td>...</td>\n",
       "      <td>...</td>\n",
       "      <td>...</td>\n",
       "      <td>...</td>\n",
       "      <td>...</td>\n",
       "      <td>...</td>\n",
       "      <td>...</td>\n",
       "    </tr>\n",
       "    <tr>\n",
       "      <th>1780810</th>\n",
       "      <td>15470881</td>\n",
       "      <td>2023-03-14 23:58:00</td>\n",
       "      <td>-2864643315</td>\n",
       "      <td>162</td>\n",
       "      <td>Stazione MES</td>\n",
       "      <td>11209</td>\n",
       "      <td>Bigl RETE UNICA 75'</td>\n",
       "      <td>12.231809</td>\n",
       "      <td>45.482675</td>\n",
       "      <td>Stazione Mestre</td>\n",
       "      <td>-3.0</td>\n",
       "    </tr>\n",
       "    <tr>\n",
       "      <th>1780811</th>\n",
       "      <td>15470882</td>\n",
       "      <td>2023-03-14 23:58:00</td>\n",
       "      <td>-2854956628</td>\n",
       "      <td>5026</td>\n",
       "      <td>Tronchetto F</td>\n",
       "      <td>11209</td>\n",
       "      <td>Bigl RETE UNICA 75'</td>\n",
       "      <td>12.306348</td>\n",
       "      <td>45.440094</td>\n",
       "      <td>Tronchetto 'B' SX</td>\n",
       "      <td>5024.0</td>\n",
       "    </tr>\n",
       "    <tr>\n",
       "      <th>1780812</th>\n",
       "      <td>15470883</td>\n",
       "      <td>2023-03-14 23:59:00</td>\n",
       "      <td>-2850025054</td>\n",
       "      <td>384</td>\n",
       "      <td>Mestre Centr</td>\n",
       "      <td>23101</td>\n",
       "      <td>Mensile ordinario Rete Unica</td>\n",
       "      <td>12.242548</td>\n",
       "      <td>45.491853</td>\n",
       "      <td>TERRA</td>\n",
       "      <td>-1.0</td>\n",
       "    </tr>\n",
       "    <tr>\n",
       "      <th>1780813</th>\n",
       "      <td>15470884</td>\n",
       "      <td>2023-03-14 23:59:00</td>\n",
       "      <td>-2824225710</td>\n",
       "      <td>5024</td>\n",
       "      <td>Tronchetto \"</td>\n",
       "      <td>23101</td>\n",
       "      <td>Mensile ordinario Rete Unica</td>\n",
       "      <td>12.306348</td>\n",
       "      <td>45.440094</td>\n",
       "      <td>Tronchetto 'B' SX</td>\n",
       "      <td>5024.0</td>\n",
       "    </tr>\n",
       "    <tr>\n",
       "      <th>1780814</th>\n",
       "      <td>15470885</td>\n",
       "      <td>2023-03-14 23:59:00</td>\n",
       "      <td>-3604916033</td>\n",
       "      <td>5039</td>\n",
       "      <td>Rialto \"C\"</td>\n",
       "      <td>23101</td>\n",
       "      <td>Mensile ordinario Rete Unica</td>\n",
       "      <td>12.335558</td>\n",
       "      <td>45.437584</td>\n",
       "      <td>Rialto \"D\"</td>\n",
       "      <td>5038.0</td>\n",
       "    </tr>\n",
       "  </tbody>\n",
       "</table>\n",
       "<p>1780815 rows × 11 columns</p>\n",
       "</div>"
      ],
      "text/plain": [
       "               id    data_validazione     seriale  fermata   descrizione  \\\n",
       "0         9938501 2023-01-13 07:33:00 -3619126015     5031  P.le Roma \"G   \n",
       "1         9938502 2023-01-13 07:33:00 -2854866114      511       VENEZIA   \n",
       "2         9938503 2023-01-13 07:33:00 -2824220595     1017  Castellana S   \n",
       "3         9938733 2023-01-13 07:36:00 -2824216539     5094  Lido S.M.E.    \n",
       "4         9938886 2023-01-13 07:38:00 -2824204947     5031  P.le Roma \"G   \n",
       "...           ...                 ...         ...      ...           ...   \n",
       "1780810  15470881 2023-03-14 23:58:00 -2864643315      162  Stazione MES   \n",
       "1780811  15470882 2023-03-14 23:58:00 -2854956628     5026  Tronchetto F   \n",
       "1780812  15470883 2023-03-14 23:59:00 -2850025054      384  Mestre Centr   \n",
       "1780813  15470884 2023-03-14 23:59:00 -2824225710     5024  Tronchetto \"   \n",
       "1780814  15470885 2023-03-14 23:59:00 -3604916033     5039    Rialto \"C\"   \n",
       "\n",
       "         titolo            descrizione_titolo        lon        lat  \\\n",
       "0         21402         Supp Mens.navigazione  12.319465  45.438667   \n",
       "1         24101       Mensile Ordinario extra  12.318223  45.438038   \n",
       "2         11209           Bigl RETE UNICA 75'  12.242548  45.491853   \n",
       "3         11209           Bigl RETE UNICA 75'  12.368725  45.417992   \n",
       "4         21402         Supp Mens.navigazione  12.319465  45.438667   \n",
       "...         ...                           ...        ...        ...   \n",
       "1780810   11209           Bigl RETE UNICA 75'  12.231809  45.482675   \n",
       "1780811   11209           Bigl RETE UNICA 75'  12.306348  45.440094   \n",
       "1780812   23101  Mensile ordinario Rete Unica  12.242548  45.491853   \n",
       "1780813   23101  Mensile ordinario Rete Unica  12.306348  45.440094   \n",
       "1780814   23101  Mensile ordinario Rete Unica  12.335558  45.437584   \n",
       "\n",
       "                       DESCRIZIONE  FERMATA  \n",
       "0        P.le Roma (Hotel S. Chiar   5501.0  \n",
       "1                    Piazzale Roma     -2.0  \n",
       "2                            TERRA     -1.0  \n",
       "3                Lido (S.M.E.) \"B\"   5001.0  \n",
       "4        P.le Roma (Hotel S. Chiar   5501.0  \n",
       "...                            ...      ...  \n",
       "1780810            Stazione Mestre     -3.0  \n",
       "1780811          Tronchetto 'B' SX   5024.0  \n",
       "1780812                      TERRA     -1.0  \n",
       "1780813          Tronchetto 'B' SX   5024.0  \n",
       "1780814                 Rialto \"D\"   5038.0  \n",
       "\n",
       "[1780815 rows x 11 columns]"
      ]
     },
     "execution_count": 16,
     "metadata": {},
     "output_type": "execute_result"
    }
   ],
   "source": [
    "df"
   ]
  }
 ],
 "metadata": {
  "kernelspec": {
   "display_name": "Python 3 (ipykernel)",
   "language": "python",
   "name": "python3"
  },
  "language_info": {
   "codemirror_mode": {
    "name": "ipython",
    "version": 3
   },
   "file_extension": ".py",
   "mimetype": "text/x-python",
   "name": "python",
   "nbconvert_exporter": "python",
   "pygments_lexer": "ipython3",
   "version": "3.9.12"
  }
 },
 "nbformat": 4,
 "nbformat_minor": 5
}
