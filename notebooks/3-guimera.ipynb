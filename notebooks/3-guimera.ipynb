{
 "cells": [
  {
   "cell_type": "markdown",
   "id": "d3c55029f617af55",
   "metadata": {
    "collapsed": false
   },
   "source": [
    "# Obtain the role of the nodes with Guimera cartography"
   ]
  },
  {
   "cell_type": "code",
   "execution_count": null,
   "id": "initial_id",
   "metadata": {
    "ExecuteTime": {
     "end_time": "2025-10-09T21:00:33.935333Z",
     "start_time": "2025-10-09T21:00:33.196973Z"
    },
    "collapsed": true
   },
   "outputs": [],
   "source": [
    "import networkx as nx\n",
    "import bin.Guimera as gm\n",
    "\n",
    "n_file = \"no_carnival_tourist\""
   ]
  },
  {
   "cell_type": "markdown",
   "id": "2d7a337cba3609cf",
   "metadata": {
    "collapsed": false
   },
   "source": [
    "## Example of the execution of the Guimera algorithm\n",
    "It is imperative to eliminate self-links that offer no substantive information, but rather generate substantial noise.\n",
    "\n",
    "Subsequently, it is imperative to eliminate nodes that possess a degree of 0 or, as illustrated in the example, to preserve exclusively the fully connected component."
   ]
  },
  {
   "cell_type": "code",
   "execution_count": 2,
   "id": "ffc04af51816b5ee",
   "metadata": {
    "ExecuteTime": {
     "end_time": "2025-10-09T21:00:33.992233Z",
     "start_time": "2025-10-09T21:00:33.937065Z"
    },
    "collapsed": false
   },
   "outputs": [],
   "source": [
    "\n",
    "G = nx.read_graphml('../models/'+n_file+'.graphml')\n",
    "\n",
    "for i in G.nodes:\n",
    "    try:\n",
    "        G.remove_edge(i, i)\n",
    "    except:\n",
    "        #\n",
    "        pass\n",
    "# While not strictly necessary, it is often considered prudent to retain components that are fully connected while removing those that are unconnected or isolated.\n",
    "#\n",
    "# Obtain the largest strongly connected component\n",
    "largest_scc = max(nx.strongly_connected_components(G), key=len)\n",
    "# Create subgraph with that component\n",
    "G = G.subgraph(largest_scc).copy()\n",
    "\n",
    "#The communities are obtained using the community detection algorithm of choice, which in this experiment is the Louvain algorithm.\n",
    "cm = nx.community.louvain_communities(G, seed=None, threshold=0.0000001)\n",
    "#The Guimera algorithm is executed.\n",
    "dZ,dP = gm.guimera(G,cm,weight='weight')\n",
    "#The roles of the nodes are obtained.\n",
    "dRol = gm.rol(dZ,dZ)\n",
    "#We save the result with picle.\n",
    "gm.to_picle(dZ,dP,dRol,cm,\"../data/\"+n_file)"
   ]
  }
 ],
 "metadata": {
  "kernelspec": {
   "display_name": "Python 3",
   "language": "python",
   "name": "python3"
  },
  "language_info": {
   "codemirror_mode": {
    "name": "ipython",
    "version": 2
   },
   "file_extension": ".py",
   "mimetype": "text/x-python",
   "name": "python",
   "nbconvert_exporter": "python",
   "pygments_lexer": "ipython2",
   "version": "2.7.6"
  }
 },
 "nbformat": 4,
 "nbformat_minor": 5
}
