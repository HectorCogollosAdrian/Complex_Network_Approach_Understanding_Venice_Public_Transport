{
 "cells": [
  {
   "cell_type": "markdown",
   "source": [
    "# Creation of complex networks"
   ],
   "metadata": {
    "collapsed": false
   },
   "id": "e71a35a1ca405896"
  },
  {
   "cell_type": "code",
   "execution_count": 36,
   "id": "b9b50efe",
   "metadata": {
    "ExecuteTime": {
     "end_time": "2025-10-06T12:07:18.458737Z",
     "start_time": "2025-10-06T12:07:16.177208Z"
    }
   },
   "outputs": [],
   "source": [
    "import pandas as pd\n",
    "import numpy as np\n",
    "import networkx as nx\n",
    "import matplotlib.pyplot as plt\n",
    "\n",
    "\n",
    "folder='../data/'\n",
    "#In this case, only the regular period is used. The same should be done for the carnival period.\n",
    "df=pd.read_csv(folder+'data_filter_no_carnival.csv')\n",
    "df_titolo=pd.read_csv(folder+'kind_of_tickets_segmentation_or.csv')\n",
    "#It is important to organise the data in order to create the matrix efficiently.\n",
    "df.sort_values(['seriale','data_validazione'],ignore_index=True,inplace=True)\n",
    "df['data_validazione']=pd.to_datetime(df['data_validazione'])\n",
    "df.FERMATA=df.FERMATA.astype(int)\n",
    "#They keep the data of residents and tourists separate.\n",
    "df_residents=df[df.titolo.isin(df_titolo[(df_titolo.type=='Worker') | (df_titolo.type=='Retired') | (df_titolo.type=='Student')].titolo.to_list())]    \n",
    "df_tourist=df[df.titolo.isin(df_titolo[(df_titolo.type=='Tourist')].titolo.to_list())]     "
   ]
  },
  {
   "cell_type": "markdown",
   "source": [
    "The following section describes how the network is constructed."
   ],
   "metadata": {
    "collapsed": false
   },
   "id": "5c668ae5a7a348e0"
  },
  {
   "cell_type": "code",
   "execution_count": 37,
   "id": "84ff961d",
   "metadata": {
    "ExecuteTime": {
     "end_time": "2025-10-06T12:07:39.214401Z",
     "start_time": "2025-10-06T12:07:18.573209Z"
    }
   },
   "outputs": [],
   "source": [
    "#We obtain the nodes on the complete data set so that we can maintain the network names and ensure that all nodes are represented.\n",
    "stops=set(df.FERMATA.to_list())\n",
    "dic_stops=dict()\n",
    "for p,s in enumerate(stops):\n",
    "    dic_stops[s]=p\n",
    "def to_matrix(df):\n",
    "    \"\"\"\n",
    "    Convert the data frame with stops sorted by identifier and date into network links. To do this, use an adjacency matrix.\n",
    "    :param df: data frame with stops sorted by identifier\n",
    "    :type df: DataFrame\n",
    "    :return: adjacency matrix\n",
    "    :rtype: np.list\n",
    "    \"\"\"\n",
    "    matrix=np.zeros([len(stops),len(set(stops))])\n",
    "    seriale=0\n",
    "    data_validazione=pd.to_datetime('2000-01-01')\n",
    "    fermata=-1\n",
    "    for i in range(len(df)):\n",
    "        if seriale==df.iloc[i,2] and data_validazione.date()==df.iloc[i,1].date():\n",
    "            matrix[dic_stops[fermata],dic_stops[df.iloc[i,10]]]+=1\n",
    "        data_validazione=df.iloc[i,1]\n",
    "        seriale=df.iloc[i,2]\n",
    "        fermata=df.iloc[i,10]\n",
    "    return matrix\n",
    "mx=to_matrix(df_residents)"
   ]
  },
  {
   "cell_type": "markdown",
   "source": [
    "The adjacency matrix is converted into a complex network and the nodes are renamed so that instead of numbers, they are the names of the stops."
   ],
   "metadata": {
    "collapsed": false
   },
   "id": "4b5971f191dae24b"
  },
  {
   "cell_type": "code",
   "execution_count": 38,
   "id": "ce4ebb22",
   "metadata": {
    "ExecuteTime": {
     "end_time": "2025-10-06T12:07:39.473905Z",
     "start_time": "2025-10-06T12:07:39.220583Z"
    }
   },
   "outputs": [],
   "source": [
    "G=nx.from_numpy_matrix(mx,create_using=nx.DiGraph)\n",
    "rename=dict()\n",
    "for i in dic_stops:\n",
    "    rename[dic_stops[i]]=df[df['FERMATA']==i].descrizione.to_list()[0]\n",
    "G = nx.relabel_nodes(G, rename)   "
   ]
  },
  {
   "cell_type": "markdown",
   "source": [
    "The graph is saved."
   ],
   "metadata": {
    "collapsed": false
   },
   "id": "9539d5254a937090"
  },
  {
   "cell_type": "code",
   "execution_count": 39,
   "outputs": [],
   "source": [
    "nx.write_graphml_lxml(G, \"grafo.graphml\")"
   ],
   "metadata": {
    "collapsed": false,
    "ExecuteTime": {
     "end_time": "2025-10-06T12:07:39.493541Z",
     "start_time": "2025-10-06T12:07:39.474981Z"
    }
   },
   "id": "4ea6dfb694a1b643"
  },
  {
   "cell_type": "markdown",
   "source": [
    "The locations of the nodes are saved so that they can be used later in map representations."
   ],
   "metadata": {
    "collapsed": false
   },
   "id": "9aabe7eb076d6e01"
  },
  {
   "cell_type": "code",
   "execution_count": 40,
   "outputs": [],
   "source": [
    "df.drop_duplicates(subset=['DESCRIZIONE'])[['DESCRIZIONE','lon','lat']].to_csv('locations.csv')"
   ],
   "metadata": {
    "collapsed": false,
    "ExecuteTime": {
     "end_time": "2025-10-06T12:07:39.558865Z",
     "start_time": "2025-10-06T12:07:39.500528Z"
    }
   },
   "id": "25079b5668f2f4b8"
  },
  {
   "cell_type": "code",
   "execution_count": 40,
   "outputs": [],
   "source": [],
   "metadata": {
    "collapsed": false,
    "ExecuteTime": {
     "end_time": "2025-10-06T12:07:39.562646Z",
     "start_time": "2025-10-06T12:07:39.559011Z"
    }
   },
   "id": "1036da1a8194a67d"
  }
 ],
 "metadata": {
  "kernelspec": {
   "display_name": "Python 3 (ipykernel)",
   "language": "python",
   "name": "python3"
  },
  "language_info": {
   "codemirror_mode": {
    "name": "ipython",
    "version": 3
   },
   "file_extension": ".py",
   "mimetype": "text/x-python",
   "name": "python",
   "nbconvert_exporter": "python",
   "pygments_lexer": "ipython3",
   "version": "3.9.12"
  }
 },
 "nbformat": 4,
 "nbformat_minor": 5
}
