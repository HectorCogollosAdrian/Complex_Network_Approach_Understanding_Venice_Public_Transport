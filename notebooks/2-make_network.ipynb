{
 "cells": [
  {
   "cell_type": "markdown",
   "id": "e71a35a1ca405896",
   "metadata": {
    "collapsed": false
   },
   "source": [
    "# Creation of complex networks\n",
    "\n",
    "This notebook describes the process of constructing complex networks from Venice’s public transport data. \n",
    "\n",
    "It organizes and filters ticket validation records (according to traveler's profile and time period) to build adjacency matrices representing passenger movements between stops, then converts these matrices into directed graphs with meaningful node labels. The resulting networks are saved for further analysis and visualization, with node locations exported for mapping purposes."
   ]
  },
  {
   "cell_type": "code",
   "execution_count": null,
   "id": "b9b50efe",
   "metadata": {
    "ExecuteTime": {
     "end_time": "2025-10-06T12:07:18.458737Z",
     "start_time": "2025-10-06T12:07:16.177208Z"
    }
   },
   "outputs": [],
   "source": [
    "import pandas as pd\n",
    "import numpy as np\n",
    "import networkx as nx\n",
    "import matplotlib.pyplot as plt\n",
    "\n",
    "\n",
    "folder='../data/'\n",
    "\n",
    "#In this case, only the regular period is used. The same should be done for the carnival period.\n",
    "df=pd.read_csv(folder+'data_filter_no_carnival.csv')\n",
    "df_titolo=pd.read_csv(folder+'kind_of_tickets_segmentation_or.csv')\n",
    "\n",
    "#It is important to organise the data in order to create the matrix efficiently.\n",
    "df.sort_values(['seriale','data_validazione'],ignore_index=True,inplace=True)\n",
    "df['data_validazione']=pd.to_datetime(df['data_validazione'])\n",
    "df.FERMATA=df.FERMATA.astype(int)\n",
    "\n",
    "#We keep the data of residents and tourists separate.\n",
    "df_residents=df[df.titolo.isin(df_titolo[(df_titolo.type=='Worker') | (df_titolo.type=='Retired') | (df_titolo.type=='Student')].titolo.to_list())]    \n",
    "df_tourist=df[df.titolo.isin(df_titolo[(df_titolo.type=='Tourist')].titolo.to_list())]     "
   ]
  },
  {
   "cell_type": "markdown",
   "id": "5c668ae5a7a348e0",
   "metadata": {
    "collapsed": false
   },
   "source": [
    "The following section describes how the network is constructed."
   ]
  },
  {
   "cell_type": "code",
   "execution_count": null,
   "id": "84ff961d",
   "metadata": {
    "ExecuteTime": {
     "end_time": "2025-10-06T12:07:39.214401Z",
     "start_time": "2025-10-06T12:07:18.573209Z"
    }
   },
   "outputs": [],
   "source": [
    "#We obtain the nodes on the complete data set so that we can maintain the network names and ensure that all nodes are represented.\n",
    "stops=set(df.FERMATA.to_list())\n",
    "dic_stops=dict()\n",
    "for p,s in enumerate(stops):\n",
    "    dic_stops[s]=p\n",
    "\n",
    "def to_matrix(df):\n",
    "    \"\"\"\n",
    "    Convert the data frame with stops sorted by identifier and date into network links. To do this, use an adjacency matrix.\n",
    "    :param df: data frame with stops sorted by identifier\n",
    "    :type df: DataFrame\n",
    "    :return: adjacency matrix\n",
    "    :rtype: np.list\n",
    "    \"\"\"\n",
    "    matrix=np.zeros([len(stops),len(set(stops))])\n",
    "    seriale=0\n",
    "    data_validazione=pd.to_datetime('2000-01-01')\n",
    "    fermata=-1\n",
    "    for i in range(len(df)):\n",
    "        if seriale==df.iloc[i,2] and data_validazione.date()==df.iloc[i,1].date():\n",
    "            matrix[dic_stops[fermata],dic_stops[df.iloc[i,10]]]+=1\n",
    "        data_validazione=df.iloc[i,1]\n",
    "        seriale=df.iloc[i,2]\n",
    "        fermata=df.iloc[i,10]\n",
    "    return matrix\n",
    "\n",
    "mx=to_matrix(df_residents)"
   ]
  },
  {
   "cell_type": "markdown",
   "id": "4b5971f191dae24b",
   "metadata": {
    "collapsed": false
   },
   "source": [
    "The adjacency matrix is converted into a complex network (using a NetworX Graph structure) and the nodes are renamed so that instead of numbers, they are the names of the stops."
   ]
  },
  {
   "cell_type": "code",
   "execution_count": 38,
   "id": "ce4ebb22",
   "metadata": {
    "ExecuteTime": {
     "end_time": "2025-10-06T12:07:39.473905Z",
     "start_time": "2025-10-06T12:07:39.220583Z"
    }
   },
   "outputs": [],
   "source": [
    "G=nx.from_numpy_matrix(mx,create_using=nx.DiGraph)\n",
    "rename=dict()\n",
    "for i in dic_stops:\n",
    "    rename[dic_stops[i]]=df[df['FERMATA']==i].descrizione.to_list()[0]\n",
    "G = nx.relabel_nodes(G, rename)   "
   ]
  },
  {
   "cell_type": "markdown",
   "id": "9539d5254a937090",
   "metadata": {
    "collapsed": false
   },
   "source": [
    "The graph is saved."
   ]
  },
  {
   "cell_type": "code",
   "execution_count": 39,
   "id": "4ea6dfb694a1b643",
   "metadata": {
    "ExecuteTime": {
     "end_time": "2025-10-06T12:07:39.493541Z",
     "start_time": "2025-10-06T12:07:39.474981Z"
    },
    "collapsed": false
   },
   "outputs": [],
   "source": [
    "nx.write_graphml_lxml(G, \"grafo.graphml\")"
   ]
  },
  {
   "cell_type": "markdown",
   "id": "9aabe7eb076d6e01",
   "metadata": {
    "collapsed": false
   },
   "source": [
    "The locations of the nodes (lattitude and longitude) are saved so that they can be used later in map representations."
   ]
  },
  {
   "cell_type": "code",
   "execution_count": 40,
   "id": "25079b5668f2f4b8",
   "metadata": {
    "ExecuteTime": {
     "end_time": "2025-10-06T12:07:39.558865Z",
     "start_time": "2025-10-06T12:07:39.500528Z"
    },
    "collapsed": false
   },
   "outputs": [],
   "source": [
    "df.drop_duplicates(subset=['DESCRIZIONE'])[['DESCRIZIONE','lon','lat']].to_csv('locations.csv')"
   ]
  }
 ],
 "metadata": {
  "kernelspec": {
   "display_name": "Python 3 (ipykernel)",
   "language": "python",
   "name": "python3"
  },
  "language_info": {
   "codemirror_mode": {
    "name": "ipython",
    "version": 3
   },
   "file_extension": ".py",
   "mimetype": "text/x-python",
   "name": "python",
   "nbconvert_exporter": "python",
   "pygments_lexer": "ipython3",
   "version": "3.9.12"
  }
 },
 "nbformat": 4,
 "nbformat_minor": 5
}
