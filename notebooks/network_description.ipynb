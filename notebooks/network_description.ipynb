{
 "cells": [
  {
   "cell_type": "markdown",
   "source": [
    "<h1>Description of Networks by Characteristics</h1>\n",
    "This notebook describes the different networks in the article, as well as the networks created as negatives using Rewarding and Erdos Renyi."
   ],
   "metadata": {
    "collapsed": false
   },
   "id": "9af1e33d2a675de5"
  },
  {
   "cell_type": "code",
   "execution_count": 1,
   "id": "initial_id",
   "metadata": {
    "ExecuteTime": {
     "end_time": "2025-10-05T15:17:01.752920Z",
     "start_time": "2025-10-05T15:17:00.994191Z"
    }
   },
   "outputs": [],
   "source": [
    "import networkx as nx\n",
    "import pandas as pd\n",
    "import random"
   ]
  },
  {
   "cell_type": "code",
   "execution_count": 2,
   "id": "2f3282706b175297",
   "metadata": {
    "collapsed": false,
    "ExecuteTime": {
     "end_time": "2025-10-05T15:17:01.756608Z",
     "start_time": "2025-10-05T15:17:01.754290Z"
    }
   },
   "outputs": [],
   "source": [
    "n_file=[\"carnival_tourist\",\"no_carnival_tourist\",\"carnival_residents\",\"no_carnival_residents\"]\n",
    "list_Graphs_names=list()\n",
    "for i in n_file:\n",
    "    list_Graphs_names.append('../Datos/'+i+'.graphml')\n"
   ]
  },
  {
   "cell_type": "markdown",
   "source": [
    "<h2>Implementation of the Rewiring algorithm</h2>"
   ],
   "metadata": {
    "collapsed": false
   },
   "id": "d78023d5088a5e46"
  },
  {
   "cell_type": "code",
   "execution_count": 3,
   "id": "f2fb58c8d14f89a8",
   "metadata": {
    "collapsed": false,
    "ExecuteTime": {
     "end_time": "2025-10-05T15:17:01.760398Z",
     "start_time": "2025-10-05T15:17:01.758705Z"
    }
   },
   "outputs": [],
   "source": [
    "def rewiring(G_original): \n",
    "    \"\"\"\n",
    "    Using the original network, redistribute the links and weights\n",
    "    :param G_original: networkX DiGraph \n",
    "    :type G_original: Graph\n",
    "    :return: new rewiring graph with weights\n",
    "    :rtype: DiGraph\n",
    "    \"\"\"\n",
    "    #Obtain original nodes and weights\n",
    "    nodos = list(G_original.nodes())\n",
    "    pesos = [G_original[u][v]['weight'] for u, v in G_original.edges()]\n",
    "    num_aristas = G_original.number_of_edges()\n",
    "    \n",
    "    #Create new network with same nodes\n",
    "    G_random = nx.DiGraph()  # o nx.Graph() si no dirigida\n",
    "    G_random.add_nodes_from(nodos)\n",
    "    \n",
    "    #Generate random edges without repetition \n",
    "    posibles_aristas = [(u, v) for u in nodos for v in nodos if u != v]\n",
    "    aristas_aleatorias = random.sample(posibles_aristas, num_aristas)\n",
    "    \n",
    "    #Mix the weights \n",
    "    random.shuffle(pesos)\n",
    "    \n",
    "    #Assign weights to random edges\n",
    "    for (u, v), peso in zip(aristas_aleatorias, pesos):\n",
    "        G_random.add_edge(u, v, weight=peso)\n",
    "    return G_random"
   ]
  },
  {
   "cell_type": "markdown",
   "source": [
    "<h2>Implementation of the Erdos Renyi</h2>"
   ],
   "metadata": {
    "collapsed": false
   },
   "id": "8d0ba9e30ed2ec06"
  },
  {
   "cell_type": "code",
   "execution_count": 4,
   "id": "57cc842bc8e305ac",
   "metadata": {
    "collapsed": false,
    "ExecuteTime": {
     "end_time": "2025-10-05T15:17:01.764441Z",
     "start_time": "2025-10-05T15:17:01.762526Z"
    }
   },
   "outputs": [],
   "source": [
    "def erdos_renyi_weighted_same_nodes(G_original, weight_range=(0.1, 1.0), directed=True, seed=None):\n",
    "    \"\"\"\n",
    "    Generates an Erdős-Rényi network with the same nodes and number of edges as G_original, and assigns random weights to the edges.\n",
    "    :param G_original: networkX DiGraph.\n",
    "    :type G_original: DiGraph\n",
    "    :param weight_range: tuple with the range of weights (min, max)\n",
    "    :type weight_range: tuple\n",
    "    :param directed: if True, generates a directed graph\n",
    "    :type directed: bool\n",
    "    :param seed: optional random seed\n",
    "    :type seed: int\n",
    "    :return: new random graph with weights\n",
    "    :rtype: DiGraph\n",
    "    \"\"\"\n",
    "    \n",
    "    rng = random.Random(seed)\n",
    "    n = G_original.number_of_nodes()\n",
    "    m = G_original.number_of_edges()\n",
    "    \n",
    "    # Create an empty graph with the same nodes\n",
    "    G_rand = nx.DiGraph() if directed else nx.Graph()\n",
    "    G_rand.add_nodes_from(G_original.nodes())\n",
    "\n",
    "    possible_edges = [(u, v) for u in G_rand.nodes() for v in G_rand.nodes() if u != v]\n",
    "    if not directed:\n",
    "        possible_edges = [(u, v) for u, v in possible_edges if u < v]\n",
    "\n",
    "    rng.shuffle(possible_edges)\n",
    "    selected_edges = possible_edges[:m]\n",
    "\n",
    "    for u, v in selected_edges:\n",
    "        weight = rng.uniform(*weight_range)\n",
    "        G_rand.add_edge(u, v, weight=weight)\n",
    "\n",
    "    return G_rand"
   ]
  },
  {
   "cell_type": "markdown",
   "source": [
    "<h2>Characteristic calculation function</h2>"
   ],
   "metadata": {
    "collapsed": false
   },
   "id": "1034e1a36f1f71c7"
  },
  {
   "cell_type": "code",
   "execution_count": 5,
   "id": "ff6ad87ea55a9944",
   "metadata": {
    "collapsed": false,
    "ExecuteTime": {
     "end_time": "2025-10-05T15:17:01.769027Z",
     "start_time": "2025-10-05T15:17:01.767331Z"
    }
   },
   "outputs": [],
   "source": [
    "def description(list_Graphs,names):\n",
    "    dict_description=dict()\n",
    "    for c,G in enumerate(list_Graphs):\n",
    "        i=names[c]\n",
    "        dict_description[i]=list()\n",
    "        dict_description[i].append(sum([d for n, d in G.degree(weight=\"weight\")])/len([d for n, d in G.in_degree()]))      \n",
    "        #The diameter and SPL require a strongly connected graph.    \n",
    "        if not nx.is_strongly_connected(G):\n",
    "            # Obtain the largest strongly connected component\n",
    "            largest_scc = max(nx.strongly_connected_components(G), key=len)\n",
    "            # Create subgraph with that component\n",
    "            G = G.subgraph(largest_scc).copy()\n",
    "        dict_description[i].append(nx.average_shortest_path_length(G,weight=\"weight\"))\n",
    "        dict_description[i].append(nx.diameter(G,weight=\"weight\"))\n",
    "    return dict_description\n"
   ]
  },
  {
   "cell_type": "markdown",
   "source": [
    "<h2>Characteristics of real networks</h2>"
   ],
   "metadata": {
    "collapsed": false
   },
   "id": "814138ebfa5d23ef"
  },
  {
   "cell_type": "code",
   "execution_count": 6,
   "id": "804da17812854d7a",
   "metadata": {
    "collapsed": false,
    "ExecuteTime": {
     "end_time": "2025-10-05T15:17:02.056097Z",
     "start_time": "2025-10-05T15:17:01.768995Z"
    }
   },
   "outputs": [
    {
     "data": {
      "text/plain": "             carnival_tourist  no_carnival_tourist  carnival_residents  \\\ndegree_mean       2015.555556          3267.093750          641.965517   \navg_spl              3.473684             3.589617            2.519985   \ndiameter            10.000000            11.000000            9.000000   \n\n             no_carnival_residents  \ndegree_mean            1472.063492  \navg_spl                   2.601110  \ndiameter                  8.000000  ",
      "text/html": "<div>\n<style scoped>\n    .dataframe tbody tr th:only-of-type {\n        vertical-align: middle;\n    }\n\n    .dataframe tbody tr th {\n        vertical-align: top;\n    }\n\n    .dataframe thead th {\n        text-align: right;\n    }\n</style>\n<table border=\"1\" class=\"dataframe\">\n  <thead>\n    <tr style=\"text-align: right;\">\n      <th></th>\n      <th>carnival_tourist</th>\n      <th>no_carnival_tourist</th>\n      <th>carnival_residents</th>\n      <th>no_carnival_residents</th>\n    </tr>\n  </thead>\n  <tbody>\n    <tr>\n      <th>degree_mean</th>\n      <td>2015.555556</td>\n      <td>3267.093750</td>\n      <td>641.965517</td>\n      <td>1472.063492</td>\n    </tr>\n    <tr>\n      <th>avg_spl</th>\n      <td>3.473684</td>\n      <td>3.589617</td>\n      <td>2.519985</td>\n      <td>2.601110</td>\n    </tr>\n    <tr>\n      <th>diameter</th>\n      <td>10.000000</td>\n      <td>11.000000</td>\n      <td>9.000000</td>\n      <td>8.000000</td>\n    </tr>\n  </tbody>\n</table>\n</div>"
     },
     "execution_count": 6,
     "metadata": {},
     "output_type": "execute_result"
    }
   ],
   "source": [
    "list_Graphs=list()\n",
    "for i in list_Graphs_names:\n",
    "    list_Graphs.append(nx.read_graphml(i))\n",
    "dict_description=description(list_Graphs,n_file)\n",
    "pd.DataFrame(dict_description,index=[\"degree_mean\",\"avg_spl\",\"diameter\"])"
   ]
  },
  {
   "cell_type": "markdown",
   "source": [
    "<h2>Characteristics of Rewiring networks</h2>"
   ],
   "metadata": {
    "collapsed": false
   },
   "id": "2ac070a0ca2d8e57"
  },
  {
   "cell_type": "code",
   "execution_count": 7,
   "id": "a737d52182afb146",
   "metadata": {
    "collapsed": false,
    "ExecuteTime": {
     "end_time": "2025-10-05T15:17:02.274690Z",
     "start_time": "2025-10-05T15:17:02.054060Z"
    }
   },
   "outputs": [
    {
     "data": {
      "text/plain": "             carnival_tourist  no_carnival_tourist  carnival_residents  \\\ndegree_mean       2015.555556          3267.093750          641.965517   \navg_spl              3.479519             3.517857            2.516636   \ndiameter             7.000000             7.000000            5.000000   \n\n             no_carnival_residents  \ndegree_mean            1472.063492  \navg_spl                   2.406810  \ndiameter                  4.000000  ",
      "text/html": "<div>\n<style scoped>\n    .dataframe tbody tr th:only-of-type {\n        vertical-align: middle;\n    }\n\n    .dataframe tbody tr th {\n        vertical-align: top;\n    }\n\n    .dataframe thead th {\n        text-align: right;\n    }\n</style>\n<table border=\"1\" class=\"dataframe\">\n  <thead>\n    <tr style=\"text-align: right;\">\n      <th></th>\n      <th>carnival_tourist</th>\n      <th>no_carnival_tourist</th>\n      <th>carnival_residents</th>\n      <th>no_carnival_residents</th>\n    </tr>\n  </thead>\n  <tbody>\n    <tr>\n      <th>degree_mean</th>\n      <td>2015.555556</td>\n      <td>3267.093750</td>\n      <td>641.965517</td>\n      <td>1472.063492</td>\n    </tr>\n    <tr>\n      <th>avg_spl</th>\n      <td>3.479519</td>\n      <td>3.517857</td>\n      <td>2.516636</td>\n      <td>2.406810</td>\n    </tr>\n    <tr>\n      <th>diameter</th>\n      <td>7.000000</td>\n      <td>7.000000</td>\n      <td>5.000000</td>\n      <td>4.000000</td>\n    </tr>\n  </tbody>\n</table>\n</div>"
     },
     "execution_count": 7,
     "metadata": {},
     "output_type": "execute_result"
    }
   ],
   "source": [
    "list_Graphs=list()\n",
    "for i in list_Graphs_names:\n",
    "    list_Graphs.append(rewiring(nx.read_graphml(i)))\n",
    "dict_description=description(list_Graphs,n_file)\n",
    "pd.DataFrame(dict_description,index=[\"degree_mean\",\"avg_spl\",\"diameter\"])\n"
   ]
  },
  {
   "cell_type": "markdown",
   "source": [
    "<h2>Characteristics of Erdos Renyi networks</h2>"
   ],
   "metadata": {
    "collapsed": false
   },
   "id": "ce3055835b49e8f4"
  },
  {
   "cell_type": "code",
   "execution_count": 8,
   "id": "d91ee6fc31f9c9df",
   "metadata": {
    "collapsed": false,
    "ExecuteTime": {
     "end_time": "2025-10-05T15:17:02.461241Z",
     "start_time": "2025-10-05T15:17:02.236898Z"
    }
   },
   "outputs": [
    {
     "data": {
      "text/plain": "             carnival_tourist  no_carnival_tourist  carnival_residents  \\\ndegree_mean      61833.398789        125083.063138        40179.997308   \navg_spl            445.501299           656.423032          664.745761   \ndiameter          1537.933716          1845.483821         1759.315905   \n\n             no_carnival_residents  \ndegree_mean          135184.869976  \navg_spl                1294.045455  \ndiameter               3940.531561  ",
      "text/html": "<div>\n<style scoped>\n    .dataframe tbody tr th:only-of-type {\n        vertical-align: middle;\n    }\n\n    .dataframe tbody tr th {\n        vertical-align: top;\n    }\n\n    .dataframe thead th {\n        text-align: right;\n    }\n</style>\n<table border=\"1\" class=\"dataframe\">\n  <thead>\n    <tr style=\"text-align: right;\">\n      <th></th>\n      <th>carnival_tourist</th>\n      <th>no_carnival_tourist</th>\n      <th>carnival_residents</th>\n      <th>no_carnival_residents</th>\n    </tr>\n  </thead>\n  <tbody>\n    <tr>\n      <th>degree_mean</th>\n      <td>61833.398789</td>\n      <td>125083.063138</td>\n      <td>40179.997308</td>\n      <td>135184.869976</td>\n    </tr>\n    <tr>\n      <th>avg_spl</th>\n      <td>445.501299</td>\n      <td>656.423032</td>\n      <td>664.745761</td>\n      <td>1294.045455</td>\n    </tr>\n    <tr>\n      <th>diameter</th>\n      <td>1537.933716</td>\n      <td>1845.483821</td>\n      <td>1759.315905</td>\n      <td>3940.531561</td>\n    </tr>\n  </tbody>\n</table>\n</div>"
     },
     "execution_count": 8,
     "metadata": {},
     "output_type": "execute_result"
    }
   ],
   "source": [
    "list_Graphs=list()\n",
    "for i in list_Graphs_names:\n",
    "    G=nx.read_graphml(i)\n",
    "    pesos = [d['weight'] for u, v, d in G.edges(data=True) if 'weight' in d]\n",
    "    # Obtener mínimo y máximo\n",
    "    peso_min = min(pesos)\n",
    "    peso_max = max(pesos)\n",
    "    list_Graphs.append(rewiring(erdos_renyi_weighted_same_nodes(G, weight_range=(peso_min, peso_max), directed=True, seed=None)))\n",
    "dict_description=description(list_Graphs,n_file)\n",
    "pd.DataFrame(dict_description,index=[\"degree_mean\",\"avg_spl\",\"diameter\"])\n",
    "\n"
   ]
  }
 ],
 "metadata": {
  "kernelspec": {
   "display_name": "Python 3 (ipykernel)",
   "language": "python",
   "name": "python3"
  },
  "language_info": {
   "codemirror_mode": {
    "name": "ipython",
    "version": 3
   },
   "file_extension": ".py",
   "mimetype": "text/x-python",
   "name": "python",
   "nbconvert_exporter": "python",
   "pygments_lexer": "ipython3",
   "version": "3.11.13"
  }
 },
 "nbformat": 4,
 "nbformat_minor": 5
}
