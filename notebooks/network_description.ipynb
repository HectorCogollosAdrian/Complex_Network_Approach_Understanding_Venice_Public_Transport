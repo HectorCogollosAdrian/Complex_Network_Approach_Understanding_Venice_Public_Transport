{
 "cells": [
  {
   "cell_type": "markdown",
   "id": "9af1e33d2a675de5",
   "metadata": {
    "collapsed": false
   },
   "source": [
    "<h1>Description of Networks by Characteristics</h1>"
   ]
  },
  {
   "cell_type": "markdown",
   "id": "577db75a",
   "metadata": {},
   "source": [
    "This notebook explores the structural properties of several public transport networks in Venice by comparing them to randomly generated counterparts. \n",
    "\n",
    "We construct two types of random graphs: one by rewiring the original network's edges and weights, and another using the Erdős-Rényi model, both preserving key features such as node set and edge count. By analyzing metrics like average degree, shortest path length, and diameter, we assess how closely these random networks resemble the real ones. The results demonstrate that the original networks possess distinctive characteristics, significantly different from those of the random models, suggesting that their structure is not merely random or spurious."
   ]
  },
  {
   "cell_type": "code",
   "execution_count": 1,
   "id": "initial_id",
   "metadata": {
    "ExecuteTime": {
     "end_time": "2025-10-05T15:17:01.752920Z",
     "start_time": "2025-10-05T15:17:00.994191Z"
    }
   },
   "outputs": [],
   "source": [
    "import networkx as nx\n",
    "import pandas as pd\n",
    "import random"
   ]
  },
  {
   "cell_type": "code",
   "execution_count": 2,
   "id": "2f3282706b175297",
   "metadata": {
    "ExecuteTime": {
     "end_time": "2025-10-05T15:17:01.756608Z",
     "start_time": "2025-10-05T15:17:01.754290Z"
    },
    "collapsed": false
   },
   "outputs": [],
   "source": [
    "n_file=[\"carnival_tourist\",\"no_carnival_tourist\",\"carnival_residents\",\"no_carnival_residents\"]\n",
    "list_Graphs_names=list()\n",
    "for i in n_file:\n",
    "    list_Graphs_names.append('../models/'+i+'.graphml')\n"
   ]
  },
  {
   "cell_type": "markdown",
   "id": "ca1d171a",
   "metadata": {},
   "source": [
    "## Random Graphs implementations"
   ]
  },
  {
   "cell_type": "markdown",
   "id": "d78023d5088a5e46",
   "metadata": {
    "collapsed": false
   },
   "source": [
    "### Rewiring algorithm\n",
    "\n",
    "The rewiring algorithm creates a random version of the original network by keeping the same set of nodes and redistributing the existing edge weights among randomly selected node pairs. This preserves the number of edges and the weight distribution, but randomizes the connections, allowing comparison of structural properties with the original network"
   ]
  },
  {
   "cell_type": "markdown",
   "id": "8d0ba9e30ed2ec06",
   "metadata": {
    "collapsed": false
   },
   "source": [
    "### Erdos Renyi algorihtm\n",
    "\n",
    "The Erdős-Rényi model generates random graphs by connecting pairs of nodes with edges chosen uniformly at random. In its simplest form, each possible edge between nodes is included with a fixed probability, or a fixed number of edges is distributed randomly among all possible node pairs. This produces networks with no inherent structure, serving as a baseline for comparison with real-world networks."
   ]
  },
  {
   "cell_type": "code",
   "execution_count": 5,
   "id": "57cc842bc8e305ac",
   "metadata": {
    "ExecuteTime": {
     "end_time": "2025-10-05T15:17:01.764441Z",
     "start_time": "2025-10-05T15:17:01.762526Z"
    },
    "collapsed": false
   },
   "outputs": [],
   "source": [
    "import sys\n",
    "sys.path.append('../bin')\n",
    "\n",
    "# Both algorithms are implemented in this file\n",
    "import random_networks as rn"
   ]
  },
  {
   "cell_type": "markdown",
   "id": "1034e1a36f1f71c7",
   "metadata": {
    "collapsed": false
   },
   "source": [
    "<h2>Characteristic calculation function</h2>"
   ]
  },
  {
   "cell_type": "code",
   "execution_count": 6,
   "id": "ff6ad87ea55a9944",
   "metadata": {
    "ExecuteTime": {
     "end_time": "2025-10-05T15:17:01.769027Z",
     "start_time": "2025-10-05T15:17:01.767331Z"
    },
    "collapsed": false
   },
   "outputs": [],
   "source": [
    "def description(list_Graphs,names):\n",
    "    dict_description=dict()\n",
    "    for c,G in enumerate(list_Graphs):\n",
    "        i=names[c]\n",
    "        dict_description[i]=list()\n",
    "        dict_description[i].append(sum([d for n, d in G.degree(weight=\"weight\")])/len([d for n, d in G.in_degree()]))      \n",
    "        #The diameter and SPL require a strongly connected graph.    \n",
    "        if not nx.is_strongly_connected(G):\n",
    "            # Obtain the largest strongly connected component\n",
    "            largest_scc = max(nx.strongly_connected_components(G), key=len)\n",
    "            # Create subgraph with that component\n",
    "            G = G.subgraph(largest_scc).copy()\n",
    "        dict_description[i].append(nx.average_shortest_path_length(G,weight=\"weight\"))\n",
    "        dict_description[i].append(nx.diameter(G,weight=\"weight\"))\n",
    "    return dict_description"
   ]
  },
  {
   "cell_type": "markdown",
   "id": "cd6cfbf9",
   "metadata": {},
   "source": [
    "## Experiments results"
   ]
  },
  {
   "cell_type": "markdown",
   "id": "814138ebfa5d23ef",
   "metadata": {
    "collapsed": false
   },
   "source": [
    "### Characteristics of real networks"
   ]
  },
  {
   "cell_type": "code",
   "execution_count": 7,
   "id": "804da17812854d7a",
   "metadata": {
    "ExecuteTime": {
     "end_time": "2025-10-05T15:17:02.056097Z",
     "start_time": "2025-10-05T15:17:01.768995Z"
    },
    "collapsed": false
   },
   "outputs": [
    {
     "data": {
      "text/html": [
       "<div>\n",
       "<style scoped>\n",
       "    .dataframe tbody tr th:only-of-type {\n",
       "        vertical-align: middle;\n",
       "    }\n",
       "\n",
       "    .dataframe tbody tr th {\n",
       "        vertical-align: top;\n",
       "    }\n",
       "\n",
       "    .dataframe thead th {\n",
       "        text-align: right;\n",
       "    }\n",
       "</style>\n",
       "<table border=\"1\" class=\"dataframe\">\n",
       "  <thead>\n",
       "    <tr style=\"text-align: right;\">\n",
       "      <th></th>\n",
       "      <th>carnival_tourist</th>\n",
       "      <th>no_carnival_tourist</th>\n",
       "      <th>carnival_residents</th>\n",
       "      <th>no_carnival_residents</th>\n",
       "    </tr>\n",
       "  </thead>\n",
       "  <tbody>\n",
       "    <tr>\n",
       "      <th>degree_mean</th>\n",
       "      <td>2015.555556</td>\n",
       "      <td>3267.093750</td>\n",
       "      <td>641.965517</td>\n",
       "      <td>1472.063492</td>\n",
       "    </tr>\n",
       "    <tr>\n",
       "      <th>avg_spl</th>\n",
       "      <td>3.473684</td>\n",
       "      <td>3.589617</td>\n",
       "      <td>2.519985</td>\n",
       "      <td>2.601110</td>\n",
       "    </tr>\n",
       "    <tr>\n",
       "      <th>diameter</th>\n",
       "      <td>10.000000</td>\n",
       "      <td>11.000000</td>\n",
       "      <td>9.000000</td>\n",
       "      <td>8.000000</td>\n",
       "    </tr>\n",
       "  </tbody>\n",
       "</table>\n",
       "</div>"
      ],
      "text/plain": [
       "             carnival_tourist  no_carnival_tourist  carnival_residents  \\\n",
       "degree_mean       2015.555556          3267.093750          641.965517   \n",
       "avg_spl              3.473684             3.589617            2.519985   \n",
       "diameter            10.000000            11.000000            9.000000   \n",
       "\n",
       "             no_carnival_residents  \n",
       "degree_mean            1472.063492  \n",
       "avg_spl                   2.601110  \n",
       "diameter                  8.000000  "
      ]
     },
     "execution_count": 7,
     "metadata": {},
     "output_type": "execute_result"
    }
   ],
   "source": [
    "list_Graphs=list()\n",
    "for i in list_Graphs_names:\n",
    "    list_Graphs.append(nx.read_graphml(i))\n",
    "dict_description=description(list_Graphs,n_file)\n",
    "pd.DataFrame(dict_description,index=[\"degree_mean\",\"avg_spl\",\"diameter\"])"
   ]
  },
  {
   "cell_type": "markdown",
   "id": "2ac070a0ca2d8e57",
   "metadata": {
    "collapsed": false
   },
   "source": [
    "### Characteristics of Rewired networks\n",
    "\n",
    "The algorithm keeps each node degree, but connects nodes in a random way."
   ]
  },
  {
   "cell_type": "code",
   "execution_count": 8,
   "id": "a737d52182afb146",
   "metadata": {
    "ExecuteTime": {
     "end_time": "2025-10-05T15:17:02.274690Z",
     "start_time": "2025-10-05T15:17:02.054060Z"
    },
    "collapsed": false
   },
   "outputs": [
    {
     "data": {
      "text/html": [
       "<div>\n",
       "<style scoped>\n",
       "    .dataframe tbody tr th:only-of-type {\n",
       "        vertical-align: middle;\n",
       "    }\n",
       "\n",
       "    .dataframe tbody tr th {\n",
       "        vertical-align: top;\n",
       "    }\n",
       "\n",
       "    .dataframe thead th {\n",
       "        text-align: right;\n",
       "    }\n",
       "</style>\n",
       "<table border=\"1\" class=\"dataframe\">\n",
       "  <thead>\n",
       "    <tr style=\"text-align: right;\">\n",
       "      <th></th>\n",
       "      <th>carnival_tourist</th>\n",
       "      <th>no_carnival_tourist</th>\n",
       "      <th>carnival_residents</th>\n",
       "      <th>no_carnival_residents</th>\n",
       "    </tr>\n",
       "  </thead>\n",
       "  <tbody>\n",
       "    <tr>\n",
       "      <th>degree_mean</th>\n",
       "      <td>2015.555556</td>\n",
       "      <td>3267.093750</td>\n",
       "      <td>641.965517</td>\n",
       "      <td>1472.063492</td>\n",
       "    </tr>\n",
       "    <tr>\n",
       "      <th>avg_spl</th>\n",
       "      <td>3.482335</td>\n",
       "      <td>3.550099</td>\n",
       "      <td>2.453721</td>\n",
       "      <td>2.438044</td>\n",
       "    </tr>\n",
       "    <tr>\n",
       "      <th>diameter</th>\n",
       "      <td>6.000000</td>\n",
       "      <td>9.000000</td>\n",
       "      <td>4.000000</td>\n",
       "      <td>5.000000</td>\n",
       "    </tr>\n",
       "  </tbody>\n",
       "</table>\n",
       "</div>"
      ],
      "text/plain": [
       "             carnival_tourist  no_carnival_tourist  carnival_residents  \\\n",
       "degree_mean       2015.555556          3267.093750          641.965517   \n",
       "avg_spl              3.482335             3.550099            2.453721   \n",
       "diameter             6.000000             9.000000            4.000000   \n",
       "\n",
       "             no_carnival_residents  \n",
       "degree_mean            1472.063492  \n",
       "avg_spl                   2.438044  \n",
       "diameter                  5.000000  "
      ]
     },
     "execution_count": 8,
     "metadata": {},
     "output_type": "execute_result"
    }
   ],
   "source": [
    "list_Graphs=list()\n",
    "for i in list_Graphs_names:\n",
    "    list_Graphs.append(rn.rewiring(nx.read_graphml(i)))\n",
    "dict_description=description(list_Graphs,n_file)\n",
    "pd.DataFrame(dict_description,index=[\"degree_mean\",\"avg_spl\",\"diameter\"])"
   ]
  },
  {
   "cell_type": "markdown",
   "id": "ce3055835b49e8f4",
   "metadata": {
    "collapsed": false
   },
   "source": [
    "### Characteristics of Erdos Renyi networks\n",
    "\n",
    "The algorithms rewires the network in a completely random manner"
   ]
  },
  {
   "cell_type": "code",
   "execution_count": 9,
   "id": "d91ee6fc31f9c9df",
   "metadata": {
    "ExecuteTime": {
     "end_time": "2025-10-05T15:17:02.461241Z",
     "start_time": "2025-10-05T15:17:02.236898Z"
    },
    "collapsed": false
   },
   "outputs": [
    {
     "data": {
      "text/html": [
       "<div>\n",
       "<style scoped>\n",
       "    .dataframe tbody tr th:only-of-type {\n",
       "        vertical-align: middle;\n",
       "    }\n",
       "\n",
       "    .dataframe tbody tr th {\n",
       "        vertical-align: top;\n",
       "    }\n",
       "\n",
       "    .dataframe thead th {\n",
       "        text-align: right;\n",
       "    }\n",
       "</style>\n",
       "<table border=\"1\" class=\"dataframe\">\n",
       "  <thead>\n",
       "    <tr style=\"text-align: right;\">\n",
       "      <th></th>\n",
       "      <th>carnival_tourist</th>\n",
       "      <th>no_carnival_tourist</th>\n",
       "      <th>carnival_residents</th>\n",
       "      <th>no_carnival_residents</th>\n",
       "    </tr>\n",
       "  </thead>\n",
       "  <tbody>\n",
       "    <tr>\n",
       "      <th>degree_mean</th>\n",
       "      <td>62182.303817</td>\n",
       "      <td>123416.147804</td>\n",
       "      <td>40630.299037</td>\n",
       "      <td>139346.741394</td>\n",
       "    </tr>\n",
       "    <tr>\n",
       "      <th>avg_spl</th>\n",
       "      <td>453.042843</td>\n",
       "      <td>599.939435</td>\n",
       "      <td>708.259128</td>\n",
       "      <td>1528.638139</td>\n",
       "    </tr>\n",
       "    <tr>\n",
       "      <th>diameter</th>\n",
       "      <td>1192.447256</td>\n",
       "      <td>2024.694957</td>\n",
       "      <td>2093.531704</td>\n",
       "      <td>4270.640439</td>\n",
       "    </tr>\n",
       "  </tbody>\n",
       "</table>\n",
       "</div>"
      ],
      "text/plain": [
       "             carnival_tourist  no_carnival_tourist  carnival_residents  \\\n",
       "degree_mean      62182.303817        123416.147804        40630.299037   \n",
       "avg_spl            453.042843           599.939435          708.259128   \n",
       "diameter          1192.447256          2024.694957         2093.531704   \n",
       "\n",
       "             no_carnival_residents  \n",
       "degree_mean          139346.741394  \n",
       "avg_spl                1528.638139  \n",
       "diameter               4270.640439  "
      ]
     },
     "execution_count": 9,
     "metadata": {},
     "output_type": "execute_result"
    }
   ],
   "source": [
    "list_Graphs=list()\n",
    "for i in list_Graphs_names:\n",
    "    G=nx.read_graphml(i)\n",
    "    pesos = [d['weight'] for u, v, d in G.edges(data=True) if 'weight' in d]\n",
    "    # Obtener mínimo y máximo\n",
    "    peso_min = min(pesos)\n",
    "    peso_max = max(pesos)\n",
    "    list_Graphs.append(rn.rewiring(rn.erdos_renyi_weighted_same_nodes(G, weight_range=(peso_min, peso_max), directed=True, seed=None)))\n",
    "dict_description=description(list_Graphs,n_file)\n",
    "pd.DataFrame(dict_description,index=[\"degree_mean\",\"avg_spl\",\"diameter\"])"
   ]
  }
 ],
 "metadata": {
  "kernelspec": {
   "display_name": "base",
   "language": "python",
   "name": "python3"
  },
  "language_info": {
   "codemirror_mode": {
    "name": "ipython",
    "version": 3
   },
   "file_extension": ".py",
   "mimetype": "text/x-python",
   "name": "python",
   "nbconvert_exporter": "python",
   "pygments_lexer": "ipython3",
   "version": "3.12.3"
  }
 },
 "nbformat": 4,
 "nbformat_minor": 5
}
